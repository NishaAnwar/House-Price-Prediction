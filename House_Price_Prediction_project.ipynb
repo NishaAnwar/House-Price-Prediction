{
  "nbformat": 4,
  "nbformat_minor": 0,
  "metadata": {
    "colab": {
      "provenance": []
    },
    "kernelspec": {
      "name": "python3",
      "display_name": "Python 3"
    },
    "language_info": {
      "name": "python"
    }
  },
  "cells": [
    {
      "cell_type": "markdown",
      "source": [
        "##House_Price_Prediction"
      ],
      "metadata": {
        "id": "9GNJ7-fJtzgs"
      }
    },
    {
      "cell_type": "markdown",
      "source": [
        "# Finding type of a model"
      ],
      "metadata": {
        "id": "jIqJRsZsJiC0"
      }
    },
    {
      "cell_type": "markdown",
      "source": [
        "As we are going to start with a dataset, there are few questions which we should know before building a model\n",
        "\n",
        "Finding Which Type of model we want to build:\n",
        "\n",
        "In this case we'll use Supervised learning because we are given with a dataset which has features(inputs) and labels(outputs).Also we will go for a Regressive model as want to predict house price and classification just classifies a trait about given features\n",
        "\n",
        "**Batch_learning**:In this technique we have a dataset, and we build our model on that data\n",
        "\n",
        "**Online_learning:**In Online Learning we create such a pipeline which is connstantly changed by upcoming data and our model keeps training on that data\n",
        "\n",
        "For this project, we'll use Batch learning as we are working on a giving dataset\n",
        "\n"
      ],
      "metadata": {
        "id": "zkW295WaGDQd"
      }
    },
    {
      "cell_type": "markdown",
      "source": [
        "# Model's Performance measure"
      ],
      "metadata": {
        "id": "I1FbUZSNJpyW"
      }
    },
    {
      "cell_type": "markdown",
      "source": [
        "For detecting model's Performance, which approach we'll use? Mean Absolute Error,Manhattan norm,Root mean square error,etc\n",
        "\n",
        "So for Regressive Tasks we usually consider RMSE.Also we have to check that details and assumptions  which we are making about our model are good enough"
      ],
      "metadata": {
        "id": "OcrZhW4WJzx6"
      }
    },
    {
      "cell_type": "markdown",
      "source": [
        "First of all we will load our dataset"
      ],
      "metadata": {
        "id": "zzlCd0dmK2Q8"
      }
    },
    {
      "cell_type": "code",
      "execution_count": null,
      "metadata": {
        "id": "v8f7Xf2MQR7b",
        "colab": {
          "base_uri": "https://localhost:8080/",
          "height": 241
        },
        "outputId": "0f79bff3-54d8-48bc-ec6c-15b6dbede8d6"
      },
      "outputs": [
        {
          "output_type": "execute_result",
          "data": {
            "text/plain": [
              "   No  X1 transaction date  X2 house age  \\\n",
              "0   1             2012.917          32.0   \n",
              "1   2             2012.917          19.5   \n",
              "2   3             2013.583          13.3   \n",
              "3   4             2013.500          13.3   \n",
              "4   5             2012.833           5.0   \n",
              "\n",
              "   X3 distance to the nearest MRT station  X4 number of convenience stores  \\\n",
              "0                                84.87882                               10   \n",
              "1                               306.59470                                9   \n",
              "2                               561.98450                                5   \n",
              "3                               561.98450                                5   \n",
              "4                               390.56840                                5   \n",
              "\n",
              "   X5 latitude  X6 longitude  Y house price of unit area  \n",
              "0     24.98298     121.54024                        37.9  \n",
              "1     24.98034     121.53951                        42.2  \n",
              "2     24.98746     121.54391                        47.3  \n",
              "3     24.98746     121.54391                        54.8  \n",
              "4     24.97937     121.54245                        43.1  "
            ],
            "text/html": [
              "\n",
              "  <div id=\"df-2e55197e-6606-457c-99bc-0e8ab793d87a\" class=\"colab-df-container\">\n",
              "    <div>\n",
              "<style scoped>\n",
              "    .dataframe tbody tr th:only-of-type {\n",
              "        vertical-align: middle;\n",
              "    }\n",
              "\n",
              "    .dataframe tbody tr th {\n",
              "        vertical-align: top;\n",
              "    }\n",
              "\n",
              "    .dataframe thead th {\n",
              "        text-align: right;\n",
              "    }\n",
              "</style>\n",
              "<table border=\"1\" class=\"dataframe\">\n",
              "  <thead>\n",
              "    <tr style=\"text-align: right;\">\n",
              "      <th></th>\n",
              "      <th>No</th>\n",
              "      <th>X1 transaction date</th>\n",
              "      <th>X2 house age</th>\n",
              "      <th>X3 distance to the nearest MRT station</th>\n",
              "      <th>X4 number of convenience stores</th>\n",
              "      <th>X5 latitude</th>\n",
              "      <th>X6 longitude</th>\n",
              "      <th>Y house price of unit area</th>\n",
              "    </tr>\n",
              "  </thead>\n",
              "  <tbody>\n",
              "    <tr>\n",
              "      <th>0</th>\n",
              "      <td>1</td>\n",
              "      <td>2012.917</td>\n",
              "      <td>32.0</td>\n",
              "      <td>84.87882</td>\n",
              "      <td>10</td>\n",
              "      <td>24.98298</td>\n",
              "      <td>121.54024</td>\n",
              "      <td>37.9</td>\n",
              "    </tr>\n",
              "    <tr>\n",
              "      <th>1</th>\n",
              "      <td>2</td>\n",
              "      <td>2012.917</td>\n",
              "      <td>19.5</td>\n",
              "      <td>306.59470</td>\n",
              "      <td>9</td>\n",
              "      <td>24.98034</td>\n",
              "      <td>121.53951</td>\n",
              "      <td>42.2</td>\n",
              "    </tr>\n",
              "    <tr>\n",
              "      <th>2</th>\n",
              "      <td>3</td>\n",
              "      <td>2013.583</td>\n",
              "      <td>13.3</td>\n",
              "      <td>561.98450</td>\n",
              "      <td>5</td>\n",
              "      <td>24.98746</td>\n",
              "      <td>121.54391</td>\n",
              "      <td>47.3</td>\n",
              "    </tr>\n",
              "    <tr>\n",
              "      <th>3</th>\n",
              "      <td>4</td>\n",
              "      <td>2013.500</td>\n",
              "      <td>13.3</td>\n",
              "      <td>561.98450</td>\n",
              "      <td>5</td>\n",
              "      <td>24.98746</td>\n",
              "      <td>121.54391</td>\n",
              "      <td>54.8</td>\n",
              "    </tr>\n",
              "    <tr>\n",
              "      <th>4</th>\n",
              "      <td>5</td>\n",
              "      <td>2012.833</td>\n",
              "      <td>5.0</td>\n",
              "      <td>390.56840</td>\n",
              "      <td>5</td>\n",
              "      <td>24.97937</td>\n",
              "      <td>121.54245</td>\n",
              "      <td>43.1</td>\n",
              "    </tr>\n",
              "  </tbody>\n",
              "</table>\n",
              "</div>\n",
              "    <div class=\"colab-df-buttons\">\n",
              "\n",
              "  <div class=\"colab-df-container\">\n",
              "    <button class=\"colab-df-convert\" onclick=\"convertToInteractive('df-2e55197e-6606-457c-99bc-0e8ab793d87a')\"\n",
              "            title=\"Convert this dataframe to an interactive table.\"\n",
              "            style=\"display:none;\">\n",
              "\n",
              "  <svg xmlns=\"http://www.w3.org/2000/svg\" height=\"24px\" viewBox=\"0 -960 960 960\">\n",
              "    <path d=\"M120-120v-720h720v720H120Zm60-500h600v-160H180v160Zm220 220h160v-160H400v160Zm0 220h160v-160H400v160ZM180-400h160v-160H180v160Zm440 0h160v-160H620v160ZM180-180h160v-160H180v160Zm440 0h160v-160H620v160Z\"/>\n",
              "  </svg>\n",
              "    </button>\n",
              "\n",
              "  <style>\n",
              "    .colab-df-container {\n",
              "      display:flex;\n",
              "      gap: 12px;\n",
              "    }\n",
              "\n",
              "    .colab-df-convert {\n",
              "      background-color: #E8F0FE;\n",
              "      border: none;\n",
              "      border-radius: 50%;\n",
              "      cursor: pointer;\n",
              "      display: none;\n",
              "      fill: #1967D2;\n",
              "      height: 32px;\n",
              "      padding: 0 0 0 0;\n",
              "      width: 32px;\n",
              "    }\n",
              "\n",
              "    .colab-df-convert:hover {\n",
              "      background-color: #E2EBFA;\n",
              "      box-shadow: 0px 1px 2px rgba(60, 64, 67, 0.3), 0px 1px 3px 1px rgba(60, 64, 67, 0.15);\n",
              "      fill: #174EA6;\n",
              "    }\n",
              "\n",
              "    .colab-df-buttons div {\n",
              "      margin-bottom: 4px;\n",
              "    }\n",
              "\n",
              "    [theme=dark] .colab-df-convert {\n",
              "      background-color: #3B4455;\n",
              "      fill: #D2E3FC;\n",
              "    }\n",
              "\n",
              "    [theme=dark] .colab-df-convert:hover {\n",
              "      background-color: #434B5C;\n",
              "      box-shadow: 0px 1px 3px 1px rgba(0, 0, 0, 0.15);\n",
              "      filter: drop-shadow(0px 1px 2px rgba(0, 0, 0, 0.3));\n",
              "      fill: #FFFFFF;\n",
              "    }\n",
              "  </style>\n",
              "\n",
              "    <script>\n",
              "      const buttonEl =\n",
              "        document.querySelector('#df-2e55197e-6606-457c-99bc-0e8ab793d87a button.colab-df-convert');\n",
              "      buttonEl.style.display =\n",
              "        google.colab.kernel.accessAllowed ? 'block' : 'none';\n",
              "\n",
              "      async function convertToInteractive(key) {\n",
              "        const element = document.querySelector('#df-2e55197e-6606-457c-99bc-0e8ab793d87a');\n",
              "        const dataTable =\n",
              "          await google.colab.kernel.invokeFunction('convertToInteractive',\n",
              "                                                    [key], {});\n",
              "        if (!dataTable) return;\n",
              "\n",
              "        const docLinkHtml = 'Like what you see? Visit the ' +\n",
              "          '<a target=\"_blank\" href=https://colab.research.google.com/notebooks/data_table.ipynb>data table notebook</a>'\n",
              "          + ' to learn more about interactive tables.';\n",
              "        element.innerHTML = '';\n",
              "        dataTable['output_type'] = 'display_data';\n",
              "        await google.colab.output.renderOutput(dataTable, element);\n",
              "        const docLink = document.createElement('div');\n",
              "        docLink.innerHTML = docLinkHtml;\n",
              "        element.appendChild(docLink);\n",
              "      }\n",
              "    </script>\n",
              "  </div>\n",
              "\n",
              "\n",
              "<div id=\"df-c40de684-d7fe-4ed0-9aef-824c52463e2d\">\n",
              "  <button class=\"colab-df-quickchart\" onclick=\"quickchart('df-c40de684-d7fe-4ed0-9aef-824c52463e2d')\"\n",
              "            title=\"Suggest charts\"\n",
              "            style=\"display:none;\">\n",
              "\n",
              "<svg xmlns=\"http://www.w3.org/2000/svg\" height=\"24px\"viewBox=\"0 0 24 24\"\n",
              "     width=\"24px\">\n",
              "    <g>\n",
              "        <path d=\"M19 3H5c-1.1 0-2 .9-2 2v14c0 1.1.9 2 2 2h14c1.1 0 2-.9 2-2V5c0-1.1-.9-2-2-2zM9 17H7v-7h2v7zm4 0h-2V7h2v10zm4 0h-2v-4h2v4z\"/>\n",
              "    </g>\n",
              "</svg>\n",
              "  </button>\n",
              "\n",
              "<style>\n",
              "  .colab-df-quickchart {\n",
              "      --bg-color: #E8F0FE;\n",
              "      --fill-color: #1967D2;\n",
              "      --hover-bg-color: #E2EBFA;\n",
              "      --hover-fill-color: #174EA6;\n",
              "      --disabled-fill-color: #AAA;\n",
              "      --disabled-bg-color: #DDD;\n",
              "  }\n",
              "\n",
              "  [theme=dark] .colab-df-quickchart {\n",
              "      --bg-color: #3B4455;\n",
              "      --fill-color: #D2E3FC;\n",
              "      --hover-bg-color: #434B5C;\n",
              "      --hover-fill-color: #FFFFFF;\n",
              "      --disabled-bg-color: #3B4455;\n",
              "      --disabled-fill-color: #666;\n",
              "  }\n",
              "\n",
              "  .colab-df-quickchart {\n",
              "    background-color: var(--bg-color);\n",
              "    border: none;\n",
              "    border-radius: 50%;\n",
              "    cursor: pointer;\n",
              "    display: none;\n",
              "    fill: var(--fill-color);\n",
              "    height: 32px;\n",
              "    padding: 0;\n",
              "    width: 32px;\n",
              "  }\n",
              "\n",
              "  .colab-df-quickchart:hover {\n",
              "    background-color: var(--hover-bg-color);\n",
              "    box-shadow: 0 1px 2px rgba(60, 64, 67, 0.3), 0 1px 3px 1px rgba(60, 64, 67, 0.15);\n",
              "    fill: var(--button-hover-fill-color);\n",
              "  }\n",
              "\n",
              "  .colab-df-quickchart-complete:disabled,\n",
              "  .colab-df-quickchart-complete:disabled:hover {\n",
              "    background-color: var(--disabled-bg-color);\n",
              "    fill: var(--disabled-fill-color);\n",
              "    box-shadow: none;\n",
              "  }\n",
              "\n",
              "  .colab-df-spinner {\n",
              "    border: 2px solid var(--fill-color);\n",
              "    border-color: transparent;\n",
              "    border-bottom-color: var(--fill-color);\n",
              "    animation:\n",
              "      spin 1s steps(1) infinite;\n",
              "  }\n",
              "\n",
              "  @keyframes spin {\n",
              "    0% {\n",
              "      border-color: transparent;\n",
              "      border-bottom-color: var(--fill-color);\n",
              "      border-left-color: var(--fill-color);\n",
              "    }\n",
              "    20% {\n",
              "      border-color: transparent;\n",
              "      border-left-color: var(--fill-color);\n",
              "      border-top-color: var(--fill-color);\n",
              "    }\n",
              "    30% {\n",
              "      border-color: transparent;\n",
              "      border-left-color: var(--fill-color);\n",
              "      border-top-color: var(--fill-color);\n",
              "      border-right-color: var(--fill-color);\n",
              "    }\n",
              "    40% {\n",
              "      border-color: transparent;\n",
              "      border-right-color: var(--fill-color);\n",
              "      border-top-color: var(--fill-color);\n",
              "    }\n",
              "    60% {\n",
              "      border-color: transparent;\n",
              "      border-right-color: var(--fill-color);\n",
              "    }\n",
              "    80% {\n",
              "      border-color: transparent;\n",
              "      border-right-color: var(--fill-color);\n",
              "      border-bottom-color: var(--fill-color);\n",
              "    }\n",
              "    90% {\n",
              "      border-color: transparent;\n",
              "      border-bottom-color: var(--fill-color);\n",
              "    }\n",
              "  }\n",
              "</style>\n",
              "\n",
              "  <script>\n",
              "    async function quickchart(key) {\n",
              "      const quickchartButtonEl =\n",
              "        document.querySelector('#' + key + ' button');\n",
              "      quickchartButtonEl.disabled = true;  // To prevent multiple clicks.\n",
              "      quickchartButtonEl.classList.add('colab-df-spinner');\n",
              "      try {\n",
              "        const charts = await google.colab.kernel.invokeFunction(\n",
              "            'suggestCharts', [key], {});\n",
              "      } catch (error) {\n",
              "        console.error('Error during call to suggestCharts:', error);\n",
              "      }\n",
              "      quickchartButtonEl.classList.remove('colab-df-spinner');\n",
              "      quickchartButtonEl.classList.add('colab-df-quickchart-complete');\n",
              "    }\n",
              "    (() => {\n",
              "      let quickchartButtonEl =\n",
              "        document.querySelector('#df-c40de684-d7fe-4ed0-9aef-824c52463e2d button');\n",
              "      quickchartButtonEl.style.display =\n",
              "        google.colab.kernel.accessAllowed ? 'block' : 'none';\n",
              "    })();\n",
              "  </script>\n",
              "</div>\n",
              "\n",
              "    </div>\n",
              "  </div>\n"
            ],
            "application/vnd.google.colaboratory.intrinsic+json": {
              "type": "dataframe",
              "variable_name": "house",
              "summary": "{\n  \"name\": \"house\",\n  \"rows\": 414,\n  \"fields\": [\n    {\n      \"column\": \"No\",\n      \"properties\": {\n        \"dtype\": \"number\",\n        \"std\": 119,\n        \"min\": 1,\n        \"max\": 414,\n        \"num_unique_values\": 414,\n        \"samples\": [\n          359,\n          351,\n          374\n        ],\n        \"semantic_type\": \"\",\n        \"description\": \"\"\n      }\n    },\n    {\n      \"column\": \"X1 transaction date\",\n      \"properties\": {\n        \"dtype\": \"number\",\n        \"std\": 0.2819672402630115,\n        \"min\": 2012.667,\n        \"max\": 2013.583,\n        \"num_unique_values\": 12,\n        \"samples\": [\n          2013.0,\n          2012.75,\n          2012.917\n        ],\n        \"semantic_type\": \"\",\n        \"description\": \"\"\n      }\n    },\n    {\n      \"column\": \"X2 house age\",\n      \"properties\": {\n        \"dtype\": \"number\",\n        \"std\": 11.35195337756286,\n        \"min\": 0.0,\n        \"max\": 43.8,\n        \"num_unique_values\": 234,\n        \"samples\": [\n          25.3,\n          25.6,\n          21.2\n        ],\n        \"semantic_type\": \"\",\n        \"description\": \"\"\n      }\n    },\n    {\n      \"column\": \"X3 distance to the nearest MRT station\",\n      \"properties\": {\n        \"dtype\": \"number\",\n        \"std\": 1262.1095954078512,\n        \"min\": 23.38284,\n        \"max\": 6488.021,\n        \"num_unique_values\": 259,\n        \"samples\": [\n          552.4371,\n          4605.749,\n          405.2134\n        ],\n        \"semantic_type\": \"\",\n        \"description\": \"\"\n      }\n    },\n    {\n      \"column\": \"X4 number of convenience stores\",\n      \"properties\": {\n        \"dtype\": \"number\",\n        \"std\": 2,\n        \"min\": 0,\n        \"max\": 10,\n        \"num_unique_values\": 11,\n        \"samples\": [\n          6,\n          10,\n          8\n        ],\n        \"semantic_type\": \"\",\n        \"description\": \"\"\n      }\n    },\n    {\n      \"column\": \"X5 latitude\",\n      \"properties\": {\n        \"dtype\": \"number\",\n        \"std\": 0.012410196590450338,\n        \"min\": 24.93207,\n        \"max\": 25.01459,\n        \"num_unique_values\": 234,\n        \"samples\": [\n          24.98573,\n          24.96143,\n          24.96696\n        ],\n        \"semantic_type\": \"\",\n        \"description\": \"\"\n      }\n    },\n    {\n      \"column\": \"X6 longitude\",\n      \"properties\": {\n        \"dtype\": \"number\",\n        \"std\": 0.015347183004592205,\n        \"min\": 121.47353,\n        \"max\": 121.56627,\n        \"num_unique_values\": 232,\n        \"samples\": [\n          121.54634,\n          121.50831,\n          121.53372\n        ],\n        \"semantic_type\": \"\",\n        \"description\": \"\"\n      }\n    },\n    {\n      \"column\": \"Y house price of unit area\",\n      \"properties\": {\n        \"dtype\": \"number\",\n        \"std\": 13.606487697735314,\n        \"min\": 7.6,\n        \"max\": 117.5,\n        \"num_unique_values\": 270,\n        \"samples\": [\n          25.0,\n          30.7,\n          18.3\n        ],\n        \"semantic_type\": \"\",\n        \"description\": \"\"\n      }\n    }\n  ]\n}"
            }
          },
          "metadata": {},
          "execution_count": 106
        }
      ],
      "source": [
        "\n",
        "\n",
        "import pandas as pd\n",
        "house=pd.read_csv('house_data_2_.csv')\n",
        "house.head() #It gives first five rows"
      ]
    },
    {
      "cell_type": "code",
      "source": [
        "house.info() #To get dataset description"
      ],
      "metadata": {
        "id": "5hTcbXnmPPOI",
        "colab": {
          "base_uri": "https://localhost:8080/"
        },
        "outputId": "9017557d-83d7-4b20-aab3-046c0a079f83"
      },
      "execution_count": null,
      "outputs": [
        {
          "output_type": "stream",
          "name": "stdout",
          "text": [
            "<class 'pandas.core.frame.DataFrame'>\n",
            "RangeIndex: 414 entries, 0 to 413\n",
            "Data columns (total 8 columns):\n",
            " #   Column                                  Non-Null Count  Dtype  \n",
            "---  ------                                  --------------  -----  \n",
            " 0   No                                      414 non-null    int64  \n",
            " 1   X1 transaction date                     414 non-null    float64\n",
            " 2   X2 house age                            409 non-null    float64\n",
            " 3   X3 distance to the nearest MRT station  414 non-null    float64\n",
            " 4   X4 number of convenience stores         414 non-null    int64  \n",
            " 5   X5 latitude                             414 non-null    float64\n",
            " 6   X6 longitude                            414 non-null    float64\n",
            " 7   Y house price of unit area              414 non-null    float64\n",
            "dtypes: float64(6), int64(2)\n",
            "memory usage: 26.0 KB\n"
          ]
        }
      ]
    },
    {
      "cell_type": "code",
      "source": [
        "house['No'].value_counts()"
      ],
      "metadata": {
        "id": "fWaxWJoSPw34",
        "colab": {
          "base_uri": "https://localhost:8080/"
        },
        "outputId": "40bab42a-348b-4d78-83bc-4af6f4738970"
      },
      "execution_count": null,
      "outputs": [
        {
          "output_type": "execute_result",
          "data": {
            "text/plain": [
              "No\n",
              "1      1\n",
              "273    1\n",
              "283    1\n",
              "282    1\n",
              "281    1\n",
              "      ..\n",
              "136    1\n",
              "135    1\n",
              "134    1\n",
              "133    1\n",
              "414    1\n",
              "Name: count, Length: 414, dtype: int64"
            ]
          },
          "metadata": {},
          "execution_count": 108
        }
      ]
    },
    {
      "cell_type": "markdown",
      "source": [
        "We can use .describe() function to check count , mean, standard deviation ,minimum & maximum value, values less than a certain percentage"
      ],
      "metadata": {
        "id": "opC6u2ucSjzC"
      }
    },
    {
      "cell_type": "code",
      "source": [
        "house.describe()"
      ],
      "metadata": {
        "id": "m6BELJAcRtvF",
        "colab": {
          "base_uri": "https://localhost:8080/",
          "height": 352
        },
        "outputId": "b16dfcaa-f04a-4059-f38b-e5500279e96a"
      },
      "execution_count": null,
      "outputs": [
        {
          "output_type": "execute_result",
          "data": {
            "text/plain": [
              "               No  X1 transaction date  X2 house age  \\\n",
              "count  414.000000           414.000000    409.000000   \n",
              "mean   207.500000          2013.148971     17.584597   \n",
              "std    119.655756             0.281967     11.351953   \n",
              "min      1.000000          2012.667000      0.000000   \n",
              "25%    104.250000          2012.917000      8.900000   \n",
              "50%    207.500000          2013.167000     16.100000   \n",
              "75%    310.750000          2013.417000     27.600000   \n",
              "max    414.000000          2013.583000     43.800000   \n",
              "\n",
              "       X3 distance to the nearest MRT station  \\\n",
              "count                              414.000000   \n",
              "mean                              1083.885689   \n",
              "std                               1262.109595   \n",
              "min                                 23.382840   \n",
              "25%                                289.324800   \n",
              "50%                                492.231300   \n",
              "75%                               1454.279000   \n",
              "max                               6488.021000   \n",
              "\n",
              "       X4 number of convenience stores  X5 latitude  X6 longitude  \\\n",
              "count                       414.000000   414.000000    414.000000   \n",
              "mean                          4.094203    24.969030    121.533361   \n",
              "std                           2.945562     0.012410      0.015347   \n",
              "min                           0.000000    24.932070    121.473530   \n",
              "25%                           1.000000    24.963000    121.528085   \n",
              "50%                           4.000000    24.971100    121.538630   \n",
              "75%                           6.000000    24.977455    121.543305   \n",
              "max                          10.000000    25.014590    121.566270   \n",
              "\n",
              "       Y house price of unit area  \n",
              "count                  414.000000  \n",
              "mean                    37.980193  \n",
              "std                     13.606488  \n",
              "min                      7.600000  \n",
              "25%                     27.700000  \n",
              "50%                     38.450000  \n",
              "75%                     46.600000  \n",
              "max                    117.500000  "
            ],
            "text/html": [
              "\n",
              "  <div id=\"df-8b3ae0ad-5f19-4f80-a2f1-baad322ce440\" class=\"colab-df-container\">\n",
              "    <div>\n",
              "<style scoped>\n",
              "    .dataframe tbody tr th:only-of-type {\n",
              "        vertical-align: middle;\n",
              "    }\n",
              "\n",
              "    .dataframe tbody tr th {\n",
              "        vertical-align: top;\n",
              "    }\n",
              "\n",
              "    .dataframe thead th {\n",
              "        text-align: right;\n",
              "    }\n",
              "</style>\n",
              "<table border=\"1\" class=\"dataframe\">\n",
              "  <thead>\n",
              "    <tr style=\"text-align: right;\">\n",
              "      <th></th>\n",
              "      <th>No</th>\n",
              "      <th>X1 transaction date</th>\n",
              "      <th>X2 house age</th>\n",
              "      <th>X3 distance to the nearest MRT station</th>\n",
              "      <th>X4 number of convenience stores</th>\n",
              "      <th>X5 latitude</th>\n",
              "      <th>X6 longitude</th>\n",
              "      <th>Y house price of unit area</th>\n",
              "    </tr>\n",
              "  </thead>\n",
              "  <tbody>\n",
              "    <tr>\n",
              "      <th>count</th>\n",
              "      <td>414.000000</td>\n",
              "      <td>414.000000</td>\n",
              "      <td>409.000000</td>\n",
              "      <td>414.000000</td>\n",
              "      <td>414.000000</td>\n",
              "      <td>414.000000</td>\n",
              "      <td>414.000000</td>\n",
              "      <td>414.000000</td>\n",
              "    </tr>\n",
              "    <tr>\n",
              "      <th>mean</th>\n",
              "      <td>207.500000</td>\n",
              "      <td>2013.148971</td>\n",
              "      <td>17.584597</td>\n",
              "      <td>1083.885689</td>\n",
              "      <td>4.094203</td>\n",
              "      <td>24.969030</td>\n",
              "      <td>121.533361</td>\n",
              "      <td>37.980193</td>\n",
              "    </tr>\n",
              "    <tr>\n",
              "      <th>std</th>\n",
              "      <td>119.655756</td>\n",
              "      <td>0.281967</td>\n",
              "      <td>11.351953</td>\n",
              "      <td>1262.109595</td>\n",
              "      <td>2.945562</td>\n",
              "      <td>0.012410</td>\n",
              "      <td>0.015347</td>\n",
              "      <td>13.606488</td>\n",
              "    </tr>\n",
              "    <tr>\n",
              "      <th>min</th>\n",
              "      <td>1.000000</td>\n",
              "      <td>2012.667000</td>\n",
              "      <td>0.000000</td>\n",
              "      <td>23.382840</td>\n",
              "      <td>0.000000</td>\n",
              "      <td>24.932070</td>\n",
              "      <td>121.473530</td>\n",
              "      <td>7.600000</td>\n",
              "    </tr>\n",
              "    <tr>\n",
              "      <th>25%</th>\n",
              "      <td>104.250000</td>\n",
              "      <td>2012.917000</td>\n",
              "      <td>8.900000</td>\n",
              "      <td>289.324800</td>\n",
              "      <td>1.000000</td>\n",
              "      <td>24.963000</td>\n",
              "      <td>121.528085</td>\n",
              "      <td>27.700000</td>\n",
              "    </tr>\n",
              "    <tr>\n",
              "      <th>50%</th>\n",
              "      <td>207.500000</td>\n",
              "      <td>2013.167000</td>\n",
              "      <td>16.100000</td>\n",
              "      <td>492.231300</td>\n",
              "      <td>4.000000</td>\n",
              "      <td>24.971100</td>\n",
              "      <td>121.538630</td>\n",
              "      <td>38.450000</td>\n",
              "    </tr>\n",
              "    <tr>\n",
              "      <th>75%</th>\n",
              "      <td>310.750000</td>\n",
              "      <td>2013.417000</td>\n",
              "      <td>27.600000</td>\n",
              "      <td>1454.279000</td>\n",
              "      <td>6.000000</td>\n",
              "      <td>24.977455</td>\n",
              "      <td>121.543305</td>\n",
              "      <td>46.600000</td>\n",
              "    </tr>\n",
              "    <tr>\n",
              "      <th>max</th>\n",
              "      <td>414.000000</td>\n",
              "      <td>2013.583000</td>\n",
              "      <td>43.800000</td>\n",
              "      <td>6488.021000</td>\n",
              "      <td>10.000000</td>\n",
              "      <td>25.014590</td>\n",
              "      <td>121.566270</td>\n",
              "      <td>117.500000</td>\n",
              "    </tr>\n",
              "  </tbody>\n",
              "</table>\n",
              "</div>\n",
              "    <div class=\"colab-df-buttons\">\n",
              "\n",
              "  <div class=\"colab-df-container\">\n",
              "    <button class=\"colab-df-convert\" onclick=\"convertToInteractive('df-8b3ae0ad-5f19-4f80-a2f1-baad322ce440')\"\n",
              "            title=\"Convert this dataframe to an interactive table.\"\n",
              "            style=\"display:none;\">\n",
              "\n",
              "  <svg xmlns=\"http://www.w3.org/2000/svg\" height=\"24px\" viewBox=\"0 -960 960 960\">\n",
              "    <path d=\"M120-120v-720h720v720H120Zm60-500h600v-160H180v160Zm220 220h160v-160H400v160Zm0 220h160v-160H400v160ZM180-400h160v-160H180v160Zm440 0h160v-160H620v160ZM180-180h160v-160H180v160Zm440 0h160v-160H620v160Z\"/>\n",
              "  </svg>\n",
              "    </button>\n",
              "\n",
              "  <style>\n",
              "    .colab-df-container {\n",
              "      display:flex;\n",
              "      gap: 12px;\n",
              "    }\n",
              "\n",
              "    .colab-df-convert {\n",
              "      background-color: #E8F0FE;\n",
              "      border: none;\n",
              "      border-radius: 50%;\n",
              "      cursor: pointer;\n",
              "      display: none;\n",
              "      fill: #1967D2;\n",
              "      height: 32px;\n",
              "      padding: 0 0 0 0;\n",
              "      width: 32px;\n",
              "    }\n",
              "\n",
              "    .colab-df-convert:hover {\n",
              "      background-color: #E2EBFA;\n",
              "      box-shadow: 0px 1px 2px rgba(60, 64, 67, 0.3), 0px 1px 3px 1px rgba(60, 64, 67, 0.15);\n",
              "      fill: #174EA6;\n",
              "    }\n",
              "\n",
              "    .colab-df-buttons div {\n",
              "      margin-bottom: 4px;\n",
              "    }\n",
              "\n",
              "    [theme=dark] .colab-df-convert {\n",
              "      background-color: #3B4455;\n",
              "      fill: #D2E3FC;\n",
              "    }\n",
              "\n",
              "    [theme=dark] .colab-df-convert:hover {\n",
              "      background-color: #434B5C;\n",
              "      box-shadow: 0px 1px 3px 1px rgba(0, 0, 0, 0.15);\n",
              "      filter: drop-shadow(0px 1px 2px rgba(0, 0, 0, 0.3));\n",
              "      fill: #FFFFFF;\n",
              "    }\n",
              "  </style>\n",
              "\n",
              "    <script>\n",
              "      const buttonEl =\n",
              "        document.querySelector('#df-8b3ae0ad-5f19-4f80-a2f1-baad322ce440 button.colab-df-convert');\n",
              "      buttonEl.style.display =\n",
              "        google.colab.kernel.accessAllowed ? 'block' : 'none';\n",
              "\n",
              "      async function convertToInteractive(key) {\n",
              "        const element = document.querySelector('#df-8b3ae0ad-5f19-4f80-a2f1-baad322ce440');\n",
              "        const dataTable =\n",
              "          await google.colab.kernel.invokeFunction('convertToInteractive',\n",
              "                                                    [key], {});\n",
              "        if (!dataTable) return;\n",
              "\n",
              "        const docLinkHtml = 'Like what you see? Visit the ' +\n",
              "          '<a target=\"_blank\" href=https://colab.research.google.com/notebooks/data_table.ipynb>data table notebook</a>'\n",
              "          + ' to learn more about interactive tables.';\n",
              "        element.innerHTML = '';\n",
              "        dataTable['output_type'] = 'display_data';\n",
              "        await google.colab.output.renderOutput(dataTable, element);\n",
              "        const docLink = document.createElement('div');\n",
              "        docLink.innerHTML = docLinkHtml;\n",
              "        element.appendChild(docLink);\n",
              "      }\n",
              "    </script>\n",
              "  </div>\n",
              "\n",
              "\n",
              "<div id=\"df-d58a36f8-cfae-4a81-9402-daa175219b7e\">\n",
              "  <button class=\"colab-df-quickchart\" onclick=\"quickchart('df-d58a36f8-cfae-4a81-9402-daa175219b7e')\"\n",
              "            title=\"Suggest charts\"\n",
              "            style=\"display:none;\">\n",
              "\n",
              "<svg xmlns=\"http://www.w3.org/2000/svg\" height=\"24px\"viewBox=\"0 0 24 24\"\n",
              "     width=\"24px\">\n",
              "    <g>\n",
              "        <path d=\"M19 3H5c-1.1 0-2 .9-2 2v14c0 1.1.9 2 2 2h14c1.1 0 2-.9 2-2V5c0-1.1-.9-2-2-2zM9 17H7v-7h2v7zm4 0h-2V7h2v10zm4 0h-2v-4h2v4z\"/>\n",
              "    </g>\n",
              "</svg>\n",
              "  </button>\n",
              "\n",
              "<style>\n",
              "  .colab-df-quickchart {\n",
              "      --bg-color: #E8F0FE;\n",
              "      --fill-color: #1967D2;\n",
              "      --hover-bg-color: #E2EBFA;\n",
              "      --hover-fill-color: #174EA6;\n",
              "      --disabled-fill-color: #AAA;\n",
              "      --disabled-bg-color: #DDD;\n",
              "  }\n",
              "\n",
              "  [theme=dark] .colab-df-quickchart {\n",
              "      --bg-color: #3B4455;\n",
              "      --fill-color: #D2E3FC;\n",
              "      --hover-bg-color: #434B5C;\n",
              "      --hover-fill-color: #FFFFFF;\n",
              "      --disabled-bg-color: #3B4455;\n",
              "      --disabled-fill-color: #666;\n",
              "  }\n",
              "\n",
              "  .colab-df-quickchart {\n",
              "    background-color: var(--bg-color);\n",
              "    border: none;\n",
              "    border-radius: 50%;\n",
              "    cursor: pointer;\n",
              "    display: none;\n",
              "    fill: var(--fill-color);\n",
              "    height: 32px;\n",
              "    padding: 0;\n",
              "    width: 32px;\n",
              "  }\n",
              "\n",
              "  .colab-df-quickchart:hover {\n",
              "    background-color: var(--hover-bg-color);\n",
              "    box-shadow: 0 1px 2px rgba(60, 64, 67, 0.3), 0 1px 3px 1px rgba(60, 64, 67, 0.15);\n",
              "    fill: var(--button-hover-fill-color);\n",
              "  }\n",
              "\n",
              "  .colab-df-quickchart-complete:disabled,\n",
              "  .colab-df-quickchart-complete:disabled:hover {\n",
              "    background-color: var(--disabled-bg-color);\n",
              "    fill: var(--disabled-fill-color);\n",
              "    box-shadow: none;\n",
              "  }\n",
              "\n",
              "  .colab-df-spinner {\n",
              "    border: 2px solid var(--fill-color);\n",
              "    border-color: transparent;\n",
              "    border-bottom-color: var(--fill-color);\n",
              "    animation:\n",
              "      spin 1s steps(1) infinite;\n",
              "  }\n",
              "\n",
              "  @keyframes spin {\n",
              "    0% {\n",
              "      border-color: transparent;\n",
              "      border-bottom-color: var(--fill-color);\n",
              "      border-left-color: var(--fill-color);\n",
              "    }\n",
              "    20% {\n",
              "      border-color: transparent;\n",
              "      border-left-color: var(--fill-color);\n",
              "      border-top-color: var(--fill-color);\n",
              "    }\n",
              "    30% {\n",
              "      border-color: transparent;\n",
              "      border-left-color: var(--fill-color);\n",
              "      border-top-color: var(--fill-color);\n",
              "      border-right-color: var(--fill-color);\n",
              "    }\n",
              "    40% {\n",
              "      border-color: transparent;\n",
              "      border-right-color: var(--fill-color);\n",
              "      border-top-color: var(--fill-color);\n",
              "    }\n",
              "    60% {\n",
              "      border-color: transparent;\n",
              "      border-right-color: var(--fill-color);\n",
              "    }\n",
              "    80% {\n",
              "      border-color: transparent;\n",
              "      border-right-color: var(--fill-color);\n",
              "      border-bottom-color: var(--fill-color);\n",
              "    }\n",
              "    90% {\n",
              "      border-color: transparent;\n",
              "      border-bottom-color: var(--fill-color);\n",
              "    }\n",
              "  }\n",
              "</style>\n",
              "\n",
              "  <script>\n",
              "    async function quickchart(key) {\n",
              "      const quickchartButtonEl =\n",
              "        document.querySelector('#' + key + ' button');\n",
              "      quickchartButtonEl.disabled = true;  // To prevent multiple clicks.\n",
              "      quickchartButtonEl.classList.add('colab-df-spinner');\n",
              "      try {\n",
              "        const charts = await google.colab.kernel.invokeFunction(\n",
              "            'suggestCharts', [key], {});\n",
              "      } catch (error) {\n",
              "        console.error('Error during call to suggestCharts:', error);\n",
              "      }\n",
              "      quickchartButtonEl.classList.remove('colab-df-spinner');\n",
              "      quickchartButtonEl.classList.add('colab-df-quickchart-complete');\n",
              "    }\n",
              "    (() => {\n",
              "      let quickchartButtonEl =\n",
              "        document.querySelector('#df-d58a36f8-cfae-4a81-9402-daa175219b7e button');\n",
              "      quickchartButtonEl.style.display =\n",
              "        google.colab.kernel.accessAllowed ? 'block' : 'none';\n",
              "    })();\n",
              "  </script>\n",
              "</div>\n",
              "\n",
              "    </div>\n",
              "  </div>\n"
            ],
            "application/vnd.google.colaboratory.intrinsic+json": {
              "type": "dataframe",
              "summary": "{\n  \"name\": \"house\",\n  \"rows\": 8,\n  \"fields\": [\n    {\n      \"column\": \"No\",\n      \"properties\": {\n        \"dtype\": \"number\",\n        \"std\": 148.9029346356823,\n        \"min\": 1.0,\n        \"max\": 414.0,\n        \"num_unique_values\": 6,\n        \"samples\": [\n          414.0,\n          207.5,\n          310.75\n        ],\n        \"semantic_type\": \"\",\n        \"description\": \"\"\n      }\n    },\n    {\n      \"column\": \"X1 transaction date\",\n      \"properties\": {\n        \"dtype\": \"number\",\n        \"std\": 843.3000378322719,\n        \"min\": 0.2819672402630115,\n        \"max\": 2013.583,\n        \"num_unique_values\": 8,\n        \"samples\": [\n          2013.1489710144926,\n          2013.167,\n          414.0\n        ],\n        \"semantic_type\": \"\",\n        \"description\": \"\"\n      }\n    },\n    {\n      \"column\": \"X2 house age\",\n      \"properties\": {\n        \"dtype\": \"number\",\n        \"std\": 138.89783568461513,\n        \"min\": 0.0,\n        \"max\": 409.0,\n        \"num_unique_values\": 8,\n        \"samples\": [\n          17.584596577017113,\n          16.1,\n          409.0\n        ],\n        \"semantic_type\": \"\",\n        \"description\": \"\"\n      }\n    },\n    {\n      \"column\": \"X3 distance to the nearest MRT station\",\n      \"properties\": {\n        \"dtype\": \"number\",\n        \"std\": 2101.800623848225,\n        \"min\": 23.38284,\n        \"max\": 6488.021,\n        \"num_unique_values\": 8,\n        \"samples\": [\n          1083.8856889130436,\n          492.2313,\n          414.0\n        ],\n        \"semantic_type\": \"\",\n        \"description\": \"\"\n      }\n    },\n    {\n      \"column\": \"X4 number of convenience stores\",\n      \"properties\": {\n        \"dtype\": \"number\",\n        \"std\": 144.9874598687052,\n        \"min\": 0.0,\n        \"max\": 414.0,\n        \"num_unique_values\": 8,\n        \"samples\": [\n          4.094202898550725,\n          4.0,\n          414.0\n        ],\n        \"semantic_type\": \"\",\n        \"description\": \"\"\n      }\n    },\n    {\n      \"column\": \"X5 latitude\",\n      \"properties\": {\n        \"dtype\": \"number\",\n        \"std\": 139.0775612485308,\n        \"min\": 0.012410196590450338,\n        \"max\": 414.0,\n        \"num_unique_values\": 8,\n        \"samples\": [\n          24.969030072463767,\n          24.9711,\n          414.0\n        ],\n        \"semantic_type\": \"\",\n        \"description\": \"\"\n      }\n    },\n    {\n      \"column\": \"X6 longitude\",\n      \"properties\": {\n        \"dtype\": \"number\",\n        \"std\": 117.5045070391186,\n        \"min\": 0.015347183004592205,\n        \"max\": 414.0,\n        \"num_unique_values\": 8,\n        \"samples\": [\n          121.53336108695655,\n          121.53863,\n          414.0\n        ],\n        \"semantic_type\": \"\",\n        \"description\": \"\"\n      }\n    },\n    {\n      \"column\": \"Y house price of unit area\",\n      \"properties\": {\n        \"dtype\": \"number\",\n        \"std\": 135.98949464428566,\n        \"min\": 7.6,\n        \"max\": 414.0,\n        \"num_unique_values\": 8,\n        \"samples\": [\n          37.980193236714975,\n          38.45,\n          414.0\n        ],\n        \"semantic_type\": \"\",\n        \"description\": \"\"\n      }\n    }\n  ]\n}"
            }
          },
          "metadata": {},
          "execution_count": 109
        }
      ]
    },
    {
      "cell_type": "markdown",
      "source": [
        "We will use matplotlib to draw histograms which will give us visual representation of all features"
      ],
      "metadata": {
        "id": "kr5-NhI6UkOC"
      }
    },
    {
      "cell_type": "code",
      "source": [
        "import matplotlib.pyplot as plt\n",
        "house.hist(bins=50,figsize=(20,15))\n",
        "plt.show()"
      ],
      "metadata": {
        "id": "6fLHhN9_SPpm",
        "colab": {
          "base_uri": "https://localhost:8080/",
          "height": 672
        },
        "outputId": "cd7cb552-0075-4a2b-f5af-82f76f598f6a"
      },
      "execution_count": null,
      "outputs": [
        {
          "output_type": "display_data",
          "data": {
            "text/plain": [
              "<Figure size 2000x1500 with 9 Axes>"
            ],
            "image/png": "[encoded data removed]"
          },
          "metadata": {}
        }
      ]
    },
    {
      "cell_type": "markdown",
      "source": [
        "# **Training and Testing**"
      ],
      "metadata": {
        "id": "6BUVVBGfWfn7"
      }
    },
    {
      "cell_type": "markdown",
      "source": [
        "We will write split_train_test function to understand it's working despite of the fact that it is already given in scikit learn"
      ],
      "metadata": {
        "id": "zZy5Gu34b8M1"
      }
    },
    {
      "cell_type": "code",
      "source": [
        "import numpy as np\n",
        "\n",
        "def split_train_test(data,test_ratio):\n",
        "  np.random.seed(42) #It is set to ensure that same numbers will be generated even if program run's again and again\n",
        "  shuffled=np.random.permutation(len(data))#It will shufffle permutation of length of data\n",
        "  print(shuffled)\n",
        "  test_set_size=int(len(data)*test_ratio)\n",
        "  test_indices=shuffled[:test_set_size]\n",
        "  train_indices=shuffled[test_set_size:]\n",
        "  return data.iloc[train_indices],data.iloc[test_indices]\n"
      ],
      "metadata": {
        "id": "cAyVZDvBWdUK"
      },
      "execution_count": null,
      "outputs": []
    },
    {
      "cell_type": "code",
      "source": [
        "\n",
        "train_set,test_set=split_train_test(house,0.2)\n",
        "print(f\"Rows in train set:{len(train_set)}\\nRows in test set:{len(test_set)}\")"
      ],
      "metadata": {
        "id": "LdUQZd8JYMcu",
        "colab": {
          "base_uri": "https://localhost:8080/"
        },
        "outputId": "e8fb6229-02cd-4efb-9d00-b8ec473f6e0d"
      },
      "execution_count": null,
      "outputs": [
        {
          "output_type": "stream",
          "name": "stdout",
          "text": [
            "[358 350 373 399 369  72 262 140  93  70 118 131 336  55 126 376  56 291\n",
            " 365  84 116   9 374 137 320 402 231  90  94 173  30 141 104  79  33 290\n",
            " 286 409 222 361  15 311   0 317 272 124 271 184 275 360 225 355 364 274\n",
            " 175  73  42 165  77  39 401  25 155 180 347 266  22  46  78 152  82  76\n",
            "  57 110  24  17 238 405  31 283 157 203 208 192 234   5  45 245 346 195\n",
            " 382 400 296   3  18 250  60 390 408  63 261 297 113 248 326 410 391 352\n",
            " 132 237 108 101 193  29 307 386 305 114 247  75 268 148  16  66 341   7\n",
            " 194  19 176 367 304 198 145 265 109 202 196 396 239  83 168 323  74 383\n",
            " 119 209 219 153 177 387 371  36 139 338 172 211 332  59 111 284 325   6\n",
            " 299 285 158 150  10 331 103  81 278 258 167 388 223 229 181 227  89 389\n",
            " 163 147 246  92  69 123  96 143 362  97 249  68  23  37 144 122 228 182\n",
            "  67 340 244 394 384 329 210 125 146 289  86 412 220 349 327 356 314 183\n",
            " 218 294 333 392 129  38  11 280 185 281 112 179 301 366 337 117 381 287\n",
            " 398 298 233 375 255 164 354 136 154 199 197 406   2 232 204 115 253 321\n",
            "  26 120 318 224 334 277 127 342 107 395 133 302  44 380  65  85 242 186\n",
            " 159  12  35  28 170 142 403 312 221  95  51 240 310 316 178  41 322 206\n",
            " 282 254 393   4 256 370 100 226 353 213 171  98 292 215  61  47  32 267\n",
            " 200 368  27 324 230 260 288 162 351 138  62 135 128   8  64 300  14 156\n",
            "  40 379 335 216 279 357 236 207 212 295 377 251 404 378 303 269 201 161\n",
            "  43 217 190 309 259 105  53   1  49  80 205  34 263  91 339  52 345 264\n",
            " 241  13 315  88 273 166 328 407 134 306 397 319 243  54 363  50 174 189\n",
            " 411 187 169  58  48 344 235 252  21 313 160 276 191 385 293 343 257 308\n",
            " 149 130 151 359  99 372  87 330 214 121 413  20 188  71 106 270 348 102]\n",
            "Rows in train set:332\n",
            "Rows in test set:82\n"
          ]
        }
      ]
    },
    {
      "cell_type": "code",
      "source": [
        "\n",
        "from sklearn.model_selection import train_test_split\n",
        "train_set,test_set=train_test_split(house,test_size=0.2,random_state=42)\n",
        "print(f\"Rows in train set:{len(train_set)}\\nRows in test set:{len(test_set)}\")"
      ],
      "metadata": {
        "id": "-CAq8u6hbwYO",
        "colab": {
          "base_uri": "https://localhost:8080/"
        },
        "outputId": "8e31038f-2eb5-4775-b378-ac5b7e39e7e6"
      },
      "execution_count": null,
      "outputs": [
        {
          "output_type": "stream",
          "name": "stdout",
          "text": [
            "Rows in train set:331\n",
            "Rows in test set:83\n"
          ]
        }
      ]
    },
    {
      "cell_type": "code",
      "source": [
        "house=train_set.copy()"
      ],
      "metadata": {
        "id": "OK0pkH5ZOko7"
      },
      "execution_count": null,
      "outputs": []
    },
    {
      "cell_type": "code",
      "source": [
        "#Now we will separate features and labels\n",
        "\n",
        "train_features = train_set.drop('Y house price of unit area', axis=1)\n",
        "train_labels = train_set['Y house price of unit area']\n",
        "test_features = test_set.drop('Y house price of unit area', axis=1)\n",
        "test_labels = test_set['Y house price of unit area']"
      ],
      "metadata": {
        "id": "1mkDmfM6-8by"
      },
      "execution_count": null,
      "outputs": []
    },
    {
      "cell_type": "markdown",
      "source": [
        "It is possible that a feature has values like  0 or 1 , and for train set our model is only exposed to values like 1 (in other words our model doesn't know that this feature can also have value 0) so we have to do **stratified sampling**\n",
        "\n",
        "We'll have to look for a  feature in our dataset that is of utmost importance(such that we cannot leave that feature), so on basis of that feature we can go for stratified sampling\n",
        "\n",
        "For Stratified Sampling we should have atleast 2 distinct values so that our test and train dataset could have uniform distribution but in our case each feature in our dataset has only one value"
      ],
      "metadata": {
        "id": "EFsBSA6AzomP"
      }
    },
    {
      "cell_type": "code",
      "source": [
        "print(house['X2 house age'].value_counts())"
      ],
      "metadata": {
        "id": "11qlEew_61gJ",
        "colab": {
          "base_uri": "https://localhost:8080/"
        },
        "outputId": "707b3c17-4577-4dc6-f7e7-0a758e631f23"
      },
      "execution_count": null,
      "outputs": [
        {
          "output_type": "stream",
          "name": "stdout",
          "text": [
            "X2 house age\n",
            "0.0     15\n",
            "16.4     6\n",
            "13.6     6\n",
            "13.3     6\n",
            "16.9     5\n",
            "        ..\n",
            "4.8      1\n",
            "1.8      1\n",
            "8.1      1\n",
            "37.2     1\n",
            "4.6      1\n",
            "Name: count, Length: 208, dtype: int64\n"
          ]
        }
      ]
    },
    {
      "cell_type": "code",
      "source": [
        "#from sklearn.model_selection import StratifiedShuffleSplit\n",
        "#from sklearn.model_selection import StratifiedShuffleSplit\n",
        "#split=StratifiedShuffleSplit(n_splits=1,test_size=0.2,random_state=42)\n",
        "#for train_index,test_index in split.split(house,house['X2 house age']):#I have selected house age feature for stratified sampling\n",
        "#  strat_train_set=house.loc[train_index]\n",
        "#  strat_test_set=house.loc[test_index]\n",
        "#  strat_test_set()"
      ],
      "metadata": {
        "id": "c-g4XkHY1Xxo"
      },
      "execution_count": null,
      "outputs": []
    },
    {
      "cell_type": "markdown",
      "source": [
        "## **Correlations**"
      ],
      "metadata": {
        "id": "9nv4AHgH9Wwq"
      }
    },
    {
      "cell_type": "markdown",
      "source": [
        "We can use .corr() function of pandas library to see the relationship between different features and the label(Price of a house in this case) in a dataset"
      ],
      "metadata": {
        "id": "2_7Bk4cu9Z7J"
      }
    },
    {
      "cell_type": "code",
      "source": [
        "corr_matrix=house.corr()\n",
        "corr_matrix['Y house price of unit area'].sort_values(ascending=False)"
      ],
      "metadata": {
        "colab": {
          "base_uri": "https://localhost:8080/"
        },
        "id": "dqtYzG8J91uY",
        "outputId": "a7d2e164-3342-4b7b-d747-e6824bfca732"
      },
      "execution_count": null,
      "outputs": [
        {
          "output_type": "execute_result",
          "data": {
            "text/plain": [
              "Y house price of unit area                1.000000\n",
              "X4 number of convenience stores           0.554251\n",
              "X5 latitude                               0.531052\n",
              "X6 longitude                              0.495413\n",
              "X1 transaction date                       0.074785\n",
              "No                                       -0.053457\n",
              "X2 house age                             -0.216881\n",
              "X3 distance to the nearest MRT station   -0.657009\n",
              "Name: Y house price of unit area, dtype: float64"
            ]
          },
          "metadata": {},
          "execution_count": 118
        }
      ]
    },
    {
      "cell_type": "code",
      "source": [
        "from pandas.plotting import scatter_matrix\n",
        "attributes=[\"Y house price of unit area\",\"X1 transaction date\",\"X2 house age\"]\n",
        "scatter_matrix(house[attributes],figsize=(12,8))"
      ],
      "metadata": {
        "colab": {
          "base_uri": "https://localhost:8080/",
          "height": 785
        },
        "id": "vIHxsuaC-ZBk",
        "outputId": "45d0cbab-f653-404d-cf15-f925f2e1fb74"
      },
      "execution_count": null,
      "outputs": [
        {
          "output_type": "execute_result",
          "data": {
            "text/plain": [
              "array([[<Axes: xlabel='Y house price of unit area', ylabel='Y house price of unit area'>,\n",
              "        <Axes: xlabel='X1 transaction date', ylabel='Y house price of unit area'>,\n",
              "        <Axes: xlabel='X2 house age', ylabel='Y house price of unit area'>],\n",
              "       [<Axes: xlabel='Y house price of unit area', ylabel='X1 transaction date'>,\n",
              "        <Axes: xlabel='X1 transaction date', ylabel='X1 transaction date'>,\n",
              "        <Axes: xlabel='X2 house age', ylabel='X1 transaction date'>],\n",
              "       [<Axes: xlabel='Y house price of unit area', ylabel='X2 house age'>,\n",
              "        <Axes: xlabel='X1 transaction date', ylabel='X2 house age'>,\n",
              "        <Axes: xlabel='X2 house age', ylabel='X2 house age'>]],\n",
              "      dtype=object)"
            ]
          },
          "metadata": {},
          "execution_count": 119
        },
        {
          "output_type": "display_data",
          "data": {
            "text/plain": [
              "<Figure size 1200x800 with 9 Axes>"
            ],
            "image/png": "[encoded data removed]"
          },
          "metadata": {}
        }
      ]
    },
    {
      "cell_type": "code",
      "source": [
        "house.plot(kind='scatter',x='X2 house age',y='Y house price of unit area',alpha=0.9)"
      ],
      "metadata": {
        "colab": {
          "base_uri": "https://localhost:8080/",
          "height": 466
        },
        "id": "6BXMGk_M_ZnK",
        "outputId": "81e4a251-7135-4616-d3a2-a2d330abdbf0"
      },
      "execution_count": null,
      "outputs": [
        {
          "output_type": "execute_result",
          "data": {
            "text/plain": [
              "<Axes: xlabel='X2 house age', ylabel='Y house price of unit area'>"
            ]
          },
          "metadata": {},
          "execution_count": 120
        },
        {
          "output_type": "display_data",
          "data": {
            "text/plain": [
              "<Figure size 640x480 with 1 Axes>"
            ],
            "image/png": "[encoded data removed]"
          },
          "metadata": {}
        }
      ]
    },
    {
      "cell_type": "markdown",
      "source": [
        "## **Attribute Relations**"
      ],
      "metadata": {
        "id": "OlvkpfiZArBy"
      }
    },
    {
      "cell_type": "markdown",
      "source": [
        "Here are we going to make another feature by making relation between already present attributes"
      ],
      "metadata": {
        "id": "VO8hRK39BZ7G"
      }
    },
    {
      "cell_type": "code",
      "source": [
        "#house['Average_size_of_house']=house['X3 distance to the nearest MRT station']+house['X4 number of convenience stores']/2\n",
        "#house.head()"
      ],
      "metadata": {
        "id": "bzElaM86AxWI"
      },
      "execution_count": null,
      "outputs": []
    },
    {
      "cell_type": "markdown",
      "source": [
        "### Missing Attributes"
      ],
      "metadata": {
        "id": "gER4sRhuFhlM"
      }
    },
    {
      "cell_type": "markdown",
      "source": [
        "Now I will delete some values from my dataset in order to see that how we can handle missing values.\n",
        "\n",
        "To take care of missing attributes, we have three options:\n",
        "\n",
        "1.Get rid of the missing data points\n",
        "\n",
        "2.Get rid of the whole attribute which contains missing values\n",
        "\n",
        "3.Set the value to some value(0,mean or median)"
      ],
      "metadata": {
        "id": "EZ-fHWj4EtIN"
      }
    },
    {
      "cell_type": "code",
      "source": [
        "#For Point 1, we can drop missing values\n",
        "a=house.dropna(subset=['X2 house age'])  #It will not change the original data we will just obtain a copy\n",
        "a.shape"
      ],
      "metadata": {
        "colab": {
          "base_uri": "https://localhost:8080/"
        },
        "id": "s9F19MrXGlRk",
        "outputId": "6cb80aaf-c059-4dd4-c96d-e279efced323"
      },
      "execution_count": null,
      "outputs": [
        {
          "output_type": "execute_result",
          "data": {
            "text/plain": [
              "(327, 8)"
            ]
          },
          "metadata": {},
          "execution_count": 122
        }
      ]
    },
    {
      "cell_type": "code",
      "source": [
        "#For Point 2,drop whole column\n",
        "b=house.drop('X2 house age',axis=1)\n",
        "b.shape"
      ],
      "metadata": {
        "colab": {
          "base_uri": "https://localhost:8080/"
        },
        "id": "TKVmQHB8H2sh",
        "outputId": "5289e33e-12e0-4771-8ee7-f7b463e10d8a"
      },
      "execution_count": null,
      "outputs": [
        {
          "output_type": "execute_result",
          "data": {
            "text/plain": [
              "(331, 7)"
            ]
          },
          "metadata": {},
          "execution_count": 123
        }
      ]
    },
    {
      "cell_type": "code",
      "source": [
        "#For Point 3, fill missing values with median\n",
        "median=house['X2 house age'].median()\n",
        "house['X2 house age'].fillna(median)"
      ],
      "metadata": {
        "colab": {
          "base_uri": "https://localhost:8080/"
        },
        "id": "sV0VU-zXIBb_",
        "outputId": "06c7f7bf-3123-440f-97cb-0216a16f058c"
      },
      "execution_count": null,
      "outputs": [
        {
          "output_type": "execute_result",
          "data": {
            "text/plain": [
              "192    43.8\n",
              "234     8.0\n",
              "5       7.1\n",
              "45     15.9\n",
              "245     7.5\n",
              "       ... \n",
              "71     35.5\n",
              "106    17.2\n",
              "270    10.8\n",
              "348     4.6\n",
              "102     1.1\n",
              "Name: X2 house age, Length: 331, dtype: float64"
            ]
          },
          "metadata": {},
          "execution_count": 124
        }
      ]
    },
    {
      "cell_type": "code",
      "source": [
        "house.shape"
      ],
      "metadata": {
        "colab": {
          "base_uri": "https://localhost:8080/"
        },
        "id": "E2RriazBJFt-",
        "outputId": "09685cc4-7ddd-4a12-e0d0-f8adabdd041c"
      },
      "execution_count": null,
      "outputs": [
        {
          "output_type": "execute_result",
          "data": {
            "text/plain": [
              "(331, 8)"
            ]
          },
          "metadata": {},
          "execution_count": 125
        }
      ]
    },
    {
      "cell_type": "markdown",
      "source": [
        "We have a class in sklearn to do the above task called imputer(for removing missing values)"
      ],
      "metadata": {
        "id": "emSBJrDtJYw7"
      }
    },
    {
      "cell_type": "code",
      "source": [
        "\n",
        "from sklearn.impute import SimpleImputer\n",
        "#house.drop(subset=['Y house price of unit area'])\n",
        "imputer=SimpleImputer(strategy='median')\n",
        "imputer.fit(house)"
      ],
      "metadata": {
        "colab": {
          "base_uri": "https://localhost:8080/",
          "height": 74
        },
        "id": "WalKnxAJKLKM",
        "outputId": "27cfbd5e-17f9-48ec-9d00-58b8c1354be2"
      },
      "execution_count": null,
      "outputs": [
        {
          "output_type": "execute_result",
          "data": {
            "text/plain": [
              "SimpleImputer(strategy='median')"
            ],
            "text/html": [
              "<style>#sk-container-id-10 {color: black;background-color: white;}#sk-container-id-10 pre{padding: 0;}#sk-container-id-10 div.sk-toggleable {background-color: white;}#sk-container-id-10 label.sk-toggleable__label {cursor: pointer;display: block;width: 100%;margin-bottom: 0;padding: 0.3em;box-sizing: border-box;text-align: center;}#sk-container-id-10 label.sk-toggleable__label-arrow:before {content: \"▸\";float: left;margin-right: 0.25em;color: #696969;}#sk-container-id-10 label.sk-toggleable__label-arrow:hover:before {color: black;}#sk-container-id-10 div.sk-estimator:hover label.sk-toggleable__label-arrow:before {color: black;}#sk-container-id-10 div.sk-toggleable__content {max-height: 0;max-width: 0;overflow: hidden;text-align: left;background-color: #f0f8ff;}#sk-container-id-10 div.sk-toggleable__content pre {margin: 0.2em;color: black;border-radius: 0.25em;background-color: #f0f8ff;}#sk-container-id-10 input.sk-toggleable__control:checked~div.sk-toggleable__content {max-height: 200px;max-width: 100%;overflow: auto;}#sk-container-id-10 input.sk-toggleable__control:checked~label.sk-toggleable__label-arrow:before {content: \"▾\";}#sk-container-id-10 div.sk-estimator input.sk-toggleable__control:checked~label.sk-toggleable__label {background-color: #d4ebff;}#sk-container-id-10 div.sk-label input.sk-toggleable__control:checked~label.sk-toggleable__label {background-color: #d4ebff;}#sk-container-id-10 input.sk-hidden--visually {border: 0;clip: rect(1px 1px 1px 1px);clip: rect(1px, 1px, 1px, 1px);height: 1px;margin: -1px;overflow: hidden;padding: 0;position: absolute;width: 1px;}#sk-container-id-10 div.sk-estimator {font-family: monospace;background-color: #f0f8ff;border: 1px dotted black;border-radius: 0.25em;box-sizing: border-box;margin-bottom: 0.5em;}#sk-container-id-10 div.sk-estimator:hover {background-color: #d4ebff;}#sk-container-id-10 div.sk-parallel-item::after {content: \"\";width: 100%;border-bottom: 1px solid gray;flex-grow: 1;}#sk-container-id-10 div.sk-label:hover label.sk-toggleable__label {background-color: #d4ebff;}#sk-container-id-10 div.sk-serial::before {content: \"\";position: absolute;border-left: 1px solid gray;box-sizing: border-box;top: 0;bottom: 0;left: 50%;z-index: 0;}#sk-container-id-10 div.sk-serial {display: flex;flex-direction: column;align-items: center;background-color: white;padding-right: 0.2em;padding-left: 0.2em;position: relative;}#sk-container-id-10 div.sk-item {position: relative;z-index: 1;}#sk-container-id-10 div.sk-parallel {display: flex;align-items: stretch;justify-content: center;background-color: white;position: relative;}#sk-container-id-10 div.sk-item::before, #sk-container-id-10 div.sk-parallel-item::before {content: \"\";position: absolute;border-left: 1px solid gray;box-sizing: border-box;top: 0;bottom: 0;left: 50%;z-index: -1;}#sk-container-id-10 div.sk-parallel-item {display: flex;flex-direction: column;z-index: 1;position: relative;background-color: white;}#sk-container-id-10 div.sk-parallel-item:first-child::after {align-self: flex-end;width: 50%;}#sk-container-id-10 div.sk-parallel-item:last-child::after {align-self: flex-start;width: 50%;}#sk-container-id-10 div.sk-parallel-item:only-child::after {width: 0;}#sk-container-id-10 div.sk-dashed-wrapped {border: 1px dashed gray;margin: 0 0.4em 0.5em 0.4em;box-sizing: border-box;padding-bottom: 0.4em;background-color: white;}#sk-container-id-10 div.sk-label label {font-family: monospace;font-weight: bold;display: inline-block;line-height: 1.2em;}#sk-container-id-10 div.sk-label-container {text-align: center;}#sk-container-id-10 div.sk-container {/* jupyter's `normalize.less` sets `[hidden] { display: none; }` but bootstrap.min.css set `[hidden] { display: none !important; }` so we also need the `!important` here to be able to override the default hidden behavior on the sphinx rendered scikit-learn.org. See: https://github.com/scikit-learn/scikit-learn/issues/21755 */display: inline-block !important;position: relative;}#sk-container-id-10 div.sk-text-repr-fallback {display: none;}</style><div id=\"sk-container-id-10\" class=\"sk-top-container\"><div class=\"sk-text-repr-fallback\"><pre>SimpleImputer(strategy=&#x27;median&#x27;)</pre><b>In a Jupyter environment, please rerun this cell to show the HTML representation or trust the notebook. <br />On GitHub, the HTML representation is unable to render, please try loading this page with nbviewer.org.</b></div><div class=\"sk-container\" hidden><div class=\"sk-item\"><div class=\"sk-estimator sk-toggleable\"><input class=\"sk-toggleable__control sk-hidden--visually\" id=\"sk-estimator-id-10\" type=\"checkbox\" checked><label for=\"sk-estimator-id-10\" class=\"sk-toggleable__label sk-toggleable__label-arrow\">SimpleImputer</label><div class=\"sk-toggleable__content\"><pre>SimpleImputer(strategy=&#x27;median&#x27;)</pre></div></div></div></div></div>"
            ]
          },
          "metadata": {},
          "execution_count": 126
        }
      ]
    },
    {
      "cell_type": "code",
      "source": [
        "imputer.statistics_ #To check values which imputer calculted for misssing values"
      ],
      "metadata": {
        "colab": {
          "base_uri": "https://localhost:8080/"
        },
        "id": "dcGI1x2CJv5a",
        "outputId": "106467db-0b2e-44ad-9fbd-4e1ebcd52c01"
      },
      "execution_count": null,
      "outputs": [
        {
          "output_type": "execute_result",
          "data": {
            "text/plain": [
              "array([ 214.     , 2013.167  ,   15.9    ,  492.2313 ,    4.     ,\n",
              "         24.9711 ,  121.53917,   39.3    ])"
            ]
          },
          "metadata": {},
          "execution_count": 127
        }
      ]
    },
    {
      "cell_type": "code",
      "source": [
        "\n",
        "X=imputer.transform(house)\n",
        "house_tr=pd.DataFrame(X,columns=house.columns)\n",
        "house_tr.shape"
      ],
      "metadata": {
        "id": "Hq9a2WXcLzRF",
        "colab": {
          "base_uri": "https://localhost:8080/"
        },
        "outputId": "ab65310b-5f71-4e50-ec6e-37d41af34164"
      },
      "execution_count": null,
      "outputs": [
        {
          "output_type": "execute_result",
          "data": {
            "text/plain": [
              "(331, 8)"
            ]
          },
          "metadata": {},
          "execution_count": 128
        }
      ]
    },
    {
      "cell_type": "markdown",
      "source": [
        "We should impute our training data only but here we used complete dataset which is not a good practise when we are building a robust machine learning model"
      ],
      "metadata": {
        "id": "COtR92ZgMtNP"
      }
    },
    {
      "cell_type": "markdown",
      "source": [
        "## **Scikit_Learning_Basic_Design**"
      ],
      "metadata": {
        "id": "lP8Gpyk6OE3h"
      }
    },
    {
      "cell_type": "markdown",
      "source": [
        "We can see those things on scikit_learn website which can be done by using this library.But primarily there are only three types of objects which are used in scikit learn\n",
        "\n",
        "**1.Estimators** --It estimates some parameters based on a dataset e.g.,imputer .It has a fit method and transform method. Fit method is used for fitting data into the model and calculates internal parameters\n",
        "\n",
        "**2.Transformers**-- Transform method takes input and returns output based on the learnings from fit().It also has a convenience function called fit_transform()\n",
        "which fits and then transforms\n",
        "\n",
        "**3.Predictors** --Linear Regression model is an example of predictor. fit() and predict() are two common functions.It also gives score() function which will evaluate the predictions"
      ],
      "metadata": {
        "id": "1idomabROYrd"
      }
    },
    {
      "cell_type": "markdown",
      "source": [
        "## **Feature_Scaling**"
      ],
      "metadata": {
        "id": "A18emGDRSUNk"
      }
    },
    {
      "cell_type": "markdown",
      "source": [
        "Our model will work  better if we have features in the same scale.So primarily, two types of features scaling methods:\n",
        "\n",
        "1.Min_max sacling (normalization)\n",
        "(Value-Min)/(Max-Min)\n",
        "Scikit learn provides a class called MinMaxscaler for this. All values will lie in scale 0 & 1\n",
        "\n",
        "2.Standarization\n",
        "(value-mean)/std\n",
        "Sklearn provides a class called StandardScaler for this\n"
      ],
      "metadata": {
        "id": "c9L8Rm1GSI0O"
      }
    },
    {
      "cell_type": "markdown",
      "source": [
        "## **Pipeline_Creation**"
      ],
      "metadata": {
        "id": "LJW3tOoBRxwe"
      }
    },
    {
      "cell_type": "markdown",
      "source": [
        "We will create pipeline to automate our working"
      ],
      "metadata": {
        "id": "NgLDvJowTbnS"
      }
    },
    {
      "cell_type": "code",
      "source": [
        "\n",
        "from sklearn.pipeline import Pipeline\n",
        "from sklearn.preprocessing import StandardScaler\n",
        "my_pipeline=Pipeline([\n",
        "    ('imputer',SimpleImputer(strategy='median')),\n",
        "    ('std_scaler',StandardScaler()),\n",
        "])\n"
      ],
      "metadata": {
        "id": "Sr5gdvHLMSuf"
      },
      "execution_count": null,
      "outputs": []
    },
    {
      "cell_type": "code",
      "source": [
        "\n",
        "train_features_prepared=my_pipeline.fit_transform(train_features)\n",
        "\n",
        "train_features_prepared.shape"
      ],
      "metadata": {
        "colab": {
          "base_uri": "https://localhost:8080/"
        },
        "id": "-rD_1HkEUfzD",
        "outputId": "608001cf-963f-4eef-d1ce-d2f155fdb9c6"
      },
      "execution_count": null,
      "outputs": [
        {
          "output_type": "execute_result",
          "data": {
            "text/plain": [
              "(331, 7)"
            ]
          },
          "metadata": {},
          "execution_count": 130
        }
      ]
    },
    {
      "cell_type": "markdown",
      "source": [
        "## **Selecting a model**"
      ],
      "metadata": {
        "id": "k4epk9XMVi_A"
      }
    },
    {
      "cell_type": "markdown",
      "source": [
        "To find a desired model,  we will do training and then evaluate our model to check that whether it needs another model or the selected one is working correctly"
      ],
      "metadata": {
        "id": "69XOsGSkVybm"
      }
    },
    {
      "cell_type": "code",
      "source": [
        "\n",
        "from sklearn.linear_model import LinearRegression\n",
        "from sklearn.tree import DecisionTreeRegressor\n",
        "from sklearn.ensemble import RandomForestRegressor\n",
        "\n",
        "model=LinearRegression()\n",
        "#model=DecisionTreeRegressor()\n",
        "#model=RandomForestRegressor()\n",
        "model.fit(train_features_prepared,train_labels)"
      ],
      "metadata": {
        "colab": {
          "base_uri": "https://localhost:8080/",
          "height": 74
        },
        "id": "D2ubOWyrVv2l",
        "outputId": "f802c5aa-8478-446e-99d4-3004891db947"
      },
      "execution_count": null,
      "outputs": [
        {
          "output_type": "execute_result",
          "data": {
            "text/plain": [
              "LinearRegression()"
            ],
            "text/html": [
              "<style>#sk-container-id-11 {color: black;background-color: white;}#sk-container-id-11 pre{padding: 0;}#sk-container-id-11 div.sk-toggleable {background-color: white;}#sk-container-id-11 label.sk-toggleable__label {cursor: pointer;display: block;width: 100%;margin-bottom: 0;padding: 0.3em;box-sizing: border-box;text-align: center;}#sk-container-id-11 label.sk-toggleable__label-arrow:before {content: \"▸\";float: left;margin-right: 0.25em;color: #696969;}#sk-container-id-11 label.sk-toggleable__label-arrow:hover:before {color: black;}#sk-container-id-11 div.sk-estimator:hover label.sk-toggleable__label-arrow:before {color: black;}#sk-container-id-11 div.sk-toggleable__content {max-height: 0;max-width: 0;overflow: hidden;text-align: left;background-color: #f0f8ff;}#sk-container-id-11 div.sk-toggleable__content pre {margin: 0.2em;color: black;border-radius: 0.25em;background-color: #f0f8ff;}#sk-container-id-11 input.sk-toggleable__control:checked~div.sk-toggleable__content {max-height: 200px;max-width: 100%;overflow: auto;}#sk-container-id-11 input.sk-toggleable__control:checked~label.sk-toggleable__label-arrow:before {content: \"▾\";}#sk-container-id-11 div.sk-estimator input.sk-toggleable__control:checked~label.sk-toggleable__label {background-color: #d4ebff;}#sk-container-id-11 div.sk-label input.sk-toggleable__control:checked~label.sk-toggleable__label {background-color: #d4ebff;}#sk-container-id-11 input.sk-hidden--visually {border: 0;clip: rect(1px 1px 1px 1px);clip: rect(1px, 1px, 1px, 1px);height: 1px;margin: -1px;overflow: hidden;padding: 0;position: absolute;width: 1px;}#sk-container-id-11 div.sk-estimator {font-family: monospace;background-color: #f0f8ff;border: 1px dotted black;border-radius: 0.25em;box-sizing: border-box;margin-bottom: 0.5em;}#sk-container-id-11 div.sk-estimator:hover {background-color: #d4ebff;}#sk-container-id-11 div.sk-parallel-item::after {content: \"\";width: 100%;border-bottom: 1px solid gray;flex-grow: 1;}#sk-container-id-11 div.sk-label:hover label.sk-toggleable__label {background-color: #d4ebff;}#sk-container-id-11 div.sk-serial::before {content: \"\";position: absolute;border-left: 1px solid gray;box-sizing: border-box;top: 0;bottom: 0;left: 50%;z-index: 0;}#sk-container-id-11 div.sk-serial {display: flex;flex-direction: column;align-items: center;background-color: white;padding-right: 0.2em;padding-left: 0.2em;position: relative;}#sk-container-id-11 div.sk-item {position: relative;z-index: 1;}#sk-container-id-11 div.sk-parallel {display: flex;align-items: stretch;justify-content: center;background-color: white;position: relative;}#sk-container-id-11 div.sk-item::before, #sk-container-id-11 div.sk-parallel-item::before {content: \"\";position: absolute;border-left: 1px solid gray;box-sizing: border-box;top: 0;bottom: 0;left: 50%;z-index: -1;}#sk-container-id-11 div.sk-parallel-item {display: flex;flex-direction: column;z-index: 1;position: relative;background-color: white;}#sk-container-id-11 div.sk-parallel-item:first-child::after {align-self: flex-end;width: 50%;}#sk-container-id-11 div.sk-parallel-item:last-child::after {align-self: flex-start;width: 50%;}#sk-container-id-11 div.sk-parallel-item:only-child::after {width: 0;}#sk-container-id-11 div.sk-dashed-wrapped {border: 1px dashed gray;margin: 0 0.4em 0.5em 0.4em;box-sizing: border-box;padding-bottom: 0.4em;background-color: white;}#sk-container-id-11 div.sk-label label {font-family: monospace;font-weight: bold;display: inline-block;line-height: 1.2em;}#sk-container-id-11 div.sk-label-container {text-align: center;}#sk-container-id-11 div.sk-container {/* jupyter's `normalize.less` sets `[hidden] { display: none; }` but bootstrap.min.css set `[hidden] { display: none !important; }` so we also need the `!important` here to be able to override the default hidden behavior on the sphinx rendered scikit-learn.org. See: https://github.com/scikit-learn/scikit-learn/issues/21755 */display: inline-block !important;position: relative;}#sk-container-id-11 div.sk-text-repr-fallback {display: none;}</style><div id=\"sk-container-id-11\" class=\"sk-top-container\"><div class=\"sk-text-repr-fallback\"><pre>LinearRegression()</pre><b>In a Jupyter environment, please rerun this cell to show the HTML representation or trust the notebook. <br />On GitHub, the HTML representation is unable to render, please try loading this page with nbviewer.org.</b></div><div class=\"sk-container\" hidden><div class=\"sk-item\"><div class=\"sk-estimator sk-toggleable\"><input class=\"sk-toggleable__control sk-hidden--visually\" id=\"sk-estimator-id-11\" type=\"checkbox\" checked><label for=\"sk-estimator-id-11\" class=\"sk-toggleable__label sk-toggleable__label-arrow\">LinearRegression</label><div class=\"sk-toggleable__content\"><pre>LinearRegression()</pre></div></div></div></div></div>"
            ]
          },
          "metadata": {},
          "execution_count": 131
        }
      ]
    },
    {
      "cell_type": "code",
      "source": [
        "train_features_predictions=model.predict(train_features_prepared)\n",
        "train_features_predictions"
      ],
      "metadata": {
        "colab": {
          "base_uri": "https://localhost:8080/"
        },
        "id": "z7780Wz0ClZL",
        "outputId": "e4c3eed0-ddfe-49fa-ab4c-3ec1faae7d5f"
      },
      "execution_count": null,
      "outputs": [
        {
          "output_type": "execute_result",
          "data": {
            "text/plain": [
              "array([38.6466334 , 33.95639859, 32.08082472, 45.86456123, 45.3820058 ,\n",
              "       34.00350395, 40.07957312, 12.5487183 , 39.96263796, 41.44462362,\n",
              "       49.46055345, 47.5473174 , 39.39079974, 35.0020169 , 43.76283565,\n",
              "       31.04674137, 48.43518456, 29.48674053, 33.40344748, 43.77218791,\n",
              "       30.8132658 , 48.15549102, 48.41947206, 30.34871761, 25.4929792 ,\n",
              "       40.98041905, 38.45436962, 37.15052516, 40.39696965, 48.47697839,\n",
              "       46.45429068, 19.36773357, 40.48132525, 44.91695367, 43.69014663,\n",
              "       31.36242205, 33.01583779, 45.59934566, 15.58420803, 51.64045379,\n",
              "       47.67360507, 37.61793084, 47.96144789, 15.87643917, 48.32194163,\n",
              "       12.76831218, 29.84313202, 34.3780566 , 39.97093031, 46.27207051,\n",
              "       39.84917932, 37.44622659, 33.55836692, 37.7095942 , 26.78388181,\n",
              "       34.6496212 , 25.1755744 , 37.18603747, 43.5152594 , 53.15215897,\n",
              "       36.01962473, 48.05906359, 40.9373537 , 42.10408141, 43.71790647,\n",
              "       44.78758891, 30.48679991, 44.11901098, 31.1389792 , 39.78027855,\n",
              "       41.15125036, 54.38825494, 44.28376934, 32.99713285, 41.51979376,\n",
              "       45.58154695, 42.75110599, 38.86845285, 39.49059235, 47.06030751,\n",
              "       36.20747357, 45.40664269, 40.77356336, 35.04196032, 11.69095461,\n",
              "       44.22042456, 42.4462268 , 43.29608649, 51.26982624, 45.56771234,\n",
              "       33.58034523, 38.77048339, 27.41146286, 51.60515668, 43.21793029,\n",
              "       17.02299228, 39.55048094, 47.47990664, 46.9004008 , 43.5193064 ,\n",
              "       28.64707047, 45.70020472, 45.0443558 , 53.9408225 , 44.09971026,\n",
              "       43.67074877, 38.33043605,  6.62527139, 44.05021622, 48.62178146,\n",
              "       31.48674496, 30.4917139 , 40.99347254, 34.20582384, 34.07752957,\n",
              "       47.9869721 , 34.43424311, 38.60921362, 14.939016  , 11.51823917,\n",
              "       12.25236659, 49.55513827, 48.24291806, 41.29790628, 46.97316575,\n",
              "       31.46089838, 43.5539524 , 44.78626661, 42.60799049, 43.89835452,\n",
              "       39.59070612, 46.3878344 , 16.00614367, 43.25248276, 44.88046155,\n",
              "       42.6925014 , 37.23800044, 43.99712965, 44.83711774, 53.95992234,\n",
              "       47.62377893, 30.69568677, 53.25014422, 34.53606086, 40.0590554 ,\n",
              "       29.20448565, 24.52438451, 34.73493218, 13.37213614, 53.87884051,\n",
              "       36.71775089, 33.39332777, 14.5710805 , 44.16014806, 29.6085752 ,\n",
              "        8.22718902, 41.65391412, 31.11774917, 44.21746858, 16.59590734,\n",
              "       46.27431835, 42.60465341, 48.41804548, 49.916918  , 11.6068086 ,\n",
              "       27.77012834, 39.00392145, 25.85677316, 41.23508786, 46.88350891,\n",
              "       42.49138846, 54.04425645, 41.89283953, 38.79967689, 30.95746521,\n",
              "       49.33191066, 48.75199044, 31.96586899, 38.39059809, 47.91276237,\n",
              "       30.99998756, 48.50888828, 46.43920399, 44.34718415, 49.52888994,\n",
              "       33.65612762, 30.15939738, 39.56020484, 41.78311348, 33.81528456,\n",
              "       44.75087867, 12.72287524, 42.14610121, 43.57132807, 44.12409629,\n",
              "       39.25878285, 44.80389517, 24.20661257, 33.33455444, 31.16554927,\n",
              "       45.24249793, 45.98402138, 17.21941862, 40.03997444, 50.16014978,\n",
              "       30.82885111, 46.85568038, 41.29403232, 47.07155711, 37.63974768,\n",
              "       42.84382187, 45.41092465, 13.19492038, 35.67969962, 51.56094253,\n",
              "       48.24521167, 47.77220751, 38.66184808, 46.37900054, 51.12929559,\n",
              "       38.65419917, 31.86337098, 36.29326673, 33.71727699, 40.17560792,\n",
              "       43.09179262, 30.25688261, 36.35603022, 37.26824603, 47.71760756,\n",
              "       12.71748102, 32.00387583, 39.20009908, 30.43784841, 30.98569447,\n",
              "       37.63682753,  9.92960284, 33.95244939, 44.84571112, 46.69530381,\n",
              "       27.38294632, 14.9502962 , 50.17419514, 41.40660345, 32.66212159,\n",
              "       40.42219863, 51.71716956, 54.48686036, 34.15202172, 37.64990833,\n",
              "       30.27292847, 48.32922879, 23.65792741, 45.69941902, 39.38073508,\n",
              "       33.14837708, 31.90706302, 48.0169543 , 42.06646221, 40.88821785,\n",
              "       41.2421544 , 43.96226248, 24.87165749, 32.38431197, 48.90407933,\n",
              "       42.38876055, 48.67272435,  9.9016506 , 45.44223468, 37.35526131,\n",
              "       47.81925894, 35.75729684, 39.4676984 , 49.86632863, 36.07967808,\n",
              "       39.79571923, 39.50514308, 46.89071345, 27.75896648, 35.80284882,\n",
              "       37.71554493, 42.52909493, 51.75576397, 33.64792862, 24.64901738,\n",
              "       36.93813178, 42.48375706, 44.24789429, 35.05979004, 46.46041527,\n",
              "       46.26937155, 48.82938111, 42.7969648 , 51.87522174, 13.40250987,\n",
              "       45.69498044, 21.29967849, 30.606114  , 14.14136668, 13.28000874,\n",
              "       27.76220224, 43.05958121, 50.07622356, 50.3409333 , 45.83332287,\n",
              "       47.32117214, 36.80250512, 39.26451461, 50.14510409, 41.98455763,\n",
              "       41.82054968, 39.66787956, 46.66300182, 40.31967677, 45.16171407,\n",
              "       54.79108935, 27.51330331, 53.9249767 , 38.62744454, 17.40087938,\n",
              "       24.01009683, 35.80983148, 44.21591276, 52.69087973, 36.33717227,\n",
              "       42.24251335, 35.9166796 , 48.27247999, 42.51408944, 46.17498694,\n",
              "       47.90788515])"
            ]
          },
          "metadata": {},
          "execution_count": 132
        }
      ]
    },
    {
      "cell_type": "code",
      "source": [
        "\n",
        "#random_data=house.iloc[5:10]\n",
        "#random_labels=house['Y house price of unit area'][5:10]\n",
        "#prepared_data=my_pipeline.transform(random_data)\n",
        "#a=model.predict(prepared_data)\n",
        "#print(a)\n",
        "#"
      ],
      "metadata": {
        "id": "36TgAhPFX4zH"
      },
      "execution_count": null,
      "outputs": []
    },
    {
      "cell_type": "code",
      "source": [
        "#random_data"
      ],
      "metadata": {
        "id": "hSqexRCeYZ7F"
      },
      "execution_count": null,
      "outputs": []
    },
    {
      "cell_type": "code",
      "source": [
        "#random_labels"
      ],
      "metadata": {
        "id": "ESS4D0vtikMr"
      },
      "execution_count": null,
      "outputs": []
    },
    {
      "cell_type": "markdown",
      "source": [
        "## **Model Evaluation**"
      ],
      "metadata": {
        "id": "AZVx31xPYrdE"
      }
    },
    {
      "cell_type": "code",
      "source": [
        "\n",
        "from sklearn.metrics import mean_squared_error\n",
        "mse=mean_squared_error(train_labels,train_features_predictions)\n",
        "rmse=np.sqrt(mse)\n",
        "rmse    #When Rmse is equal to zero it shows that our model is over fitted"
      ],
      "metadata": {
        "colab": {
          "base_uri": "https://localhost:8080/"
        },
        "id": "cq09QzB5YnKQ",
        "outputId": "f95a8523-63c9-49f6-9e5c-4d4926758da8"
      },
      "execution_count": null,
      "outputs": [
        {
          "output_type": "execute_result",
          "data": {
            "text/plain": [
              "9.105207553507762"
            ]
          },
          "metadata": {},
          "execution_count": 136
        }
      ]
    },
    {
      "cell_type": "markdown",
      "source": [
        "## **Cross Validation**"
      ],
      "metadata": {
        "id": "7o_UR3QzaJ_E"
      }
    },
    {
      "cell_type": "code",
      "source": [
        "\n",
        "from sklearn.model_selection import cross_val_score\n",
        "scores=cross_val_score(model,train_features_prepared,train_labels,scoring='neg_mean_squared_error',cv=10)\n",
        "rmse_scores=np.sqrt(-scores)\n",
        "rmse_scores"
      ],
      "metadata": {
        "colab": {
          "base_uri": "https://localhost:8080/"
        },
        "id": "chuYEi5gaNuL",
        "outputId": "610a3554-53ad-4f73-9bc9-fcc547bac3c0"
      },
      "execution_count": null,
      "outputs": [
        {
          "output_type": "execute_result",
          "data": {
            "text/plain": [
              "array([ 9.90437262,  8.26585367,  8.19861431,  9.25113152,  6.97751902,\n",
              "        8.41567469,  7.5505258 ,  9.36890215,  7.97224864, 14.91281301])"
            ]
          },
          "metadata": {},
          "execution_count": 137
        }
      ]
    },
    {
      "cell_type": "code",
      "source": [
        "\n",
        "#model.predict(prepared_data)"
      ],
      "metadata": {
        "id": "t81Z7p0dk18F"
      },
      "execution_count": null,
      "outputs": []
    },
    {
      "cell_type": "markdown",
      "source": [
        "So after checking error it can be een that our linear Regression model is working excellently  so I will use linear regression model"
      ],
      "metadata": {
        "id": "jWNTeM2YcQJo"
      }
    },
    {
      "cell_type": "code",
      "source": [
        "def print_scores(scores):\n",
        "  print(\"Scores:\",scores)\n",
        "  print(\"Mean:\",scores.mean())\n",
        "  print(\"Standard deviation:\",scores.std())"
      ],
      "metadata": {
        "id": "s1JoeWV-ci8I"
      },
      "execution_count": null,
      "outputs": []
    },
    {
      "cell_type": "code",
      "source": [
        "print(print_scores(rmse_scores))"
      ],
      "metadata": {
        "colab": {
          "base_uri": "https://localhost:8080/"
        },
        "id": "FpWrkSTUcwYY",
        "outputId": "f30ecfd8-568c-4b44-8912-dab390e422eb"
      },
      "execution_count": null,
      "outputs": [
        {
          "output_type": "stream",
          "name": "stdout",
          "text": [
            "Scores: [ 9.90437262  8.26585367  8.19861431  9.25113152  6.97751902  8.41567469\n",
            "  7.5505258   9.36890215  7.97224864 14.91281301]\n",
            "Mean: 9.081765541674052\n",
            "Standard deviation: 2.11380819486646\n",
            "None\n"
          ]
        }
      ]
    },
    {
      "cell_type": "markdown",
      "source": [
        "After Evaluating models like LinearRegression ,Decision Tree,RandomForestRegressor we obtained following results\n",
        "\n",
        "\n",
        "**Linear Regression**\n",
        "\n",
        "rmse:9.105207553507762\n",
        "\n",
        "Scores: [ 9.90437262  8.26585367  8.19861431  9.25113152  6.97751902  8.41567469\n",
        "  7.5505258   9.36890215  7.97224864 14.91281301]\n",
        "\n",
        "Mean: 9.081765541674052\n",
        "\n",
        "Standard deviation: 2.11380819486646\n",
        "\n",
        "\n",
        "**Decision Tree Regressor**\n",
        "\n",
        "rmse:0.0 (model is overfitted so we'll use cross valiadtion)\n",
        "\n",
        "[10.53043209  6.15612531 11.90614814 16.09604695  6.96821789  9.34028421\n",
        "  8.83013092 15.24866611  7.87591265 16.05679314]\n",
        "\n",
        "Mean: 10.900875741162803\n",
        "\n",
        "Standard deviation: 3.5703873251351714\n",
        "\n",
        "\n",
        "**RandomForestRegressor**\n",
        "\n",
        "rmse:3.0473860181812613\n",
        "\n",
        "Scores: [ 8.05947362  5.68321457  8.10963644 10.1141801   5.91212327  8.13770444\n",
        "  6.66449248  6.34309748  7.28366942 14.02802678]\n",
        "\n",
        "Mean: 8.033561858462352\n",
        "\n",
        "Standard deviation: 2.3579414750142216\n",
        "\n",
        "\n",
        "So RandomForestRegressor is best model so far with rmse value of 3.0473860181812613"
      ],
      "metadata": {
        "id": "o0Va36qYgw28"
      }
    },
    {
      "cell_type": "code",
      "source": [
        "#from joblib import dump,load\n",
        "#dump(model,'')\n"
      ],
      "metadata": {
        "id": "YBRFXKnWh8Xv"
      },
      "execution_count": null,
      "outputs": []
    },
    {
      "cell_type": "markdown",
      "source": [
        "## **Model Evaluation on Test data**"
      ],
      "metadata": {
        "id": "ubU2laqN3L0K"
      }
    },
    {
      "cell_type": "code",
      "source": [
        "test_features_prepared=my_pipeline.transform(test_features)\n",
        "test_predictions=model.predict(test_features_prepared)\n",
        "test_mse=mean_squared_error(test_labels,test_predictions)\n",
        "test_rmse=np.sqrt(test_mse)\n",
        "test_rmse\n",
        "\n"
      ],
      "metadata": {
        "colab": {
          "base_uri": "https://localhost:8080/"
        },
        "id": "gqOZ7LJD3SLO",
        "outputId": "09eaea25-28b9-40bc-c27a-2cb22526c9c0"
      },
      "execution_count": null,
      "outputs": [
        {
          "output_type": "execute_result",
          "data": {
            "text/plain": [
              "7.388831925218031"
            ]
          },
          "metadata": {},
          "execution_count": 142
        }
      ]
    },
    {
      "cell_type": "code",
      "source": [
        "scores = cross_val_score(model, train_features_prepared, train_labels,\n",
        "                         scoring='neg_mean_squared_error', cv=10)\n",
        "rmse_scores = np.sqrt(-scores)\n",
        "print(\"Cross-validation RMSE scores:\", rmse_scores)\n",
        "print(\"Mean:\", rmse_scores.mean())\n",
        "print(\"Standard deviation:\", rmse_scores.std())"
      ],
      "metadata": {
        "colab": {
          "base_uri": "https://localhost:8080/"
        },
        "id": "AKMw-ygAHonC",
        "outputId": "230650a8-0bbb-4f45-844d-fa3cc9bb38f3"
      },
      "execution_count": null,
      "outputs": [
        {
          "output_type": "stream",
          "name": "stdout",
          "text": [
            "Cross-validation RMSE scores: [ 9.90437262  8.26585367  8.19861431  9.25113152  6.97751902  8.41567469\n",
            "  7.5505258   9.36890215  7.97224864 14.91281301]\n",
            "Mean: 9.081765541674052\n",
            "Standard deviation: 2.11380819486646\n"
          ]
        }
      ]
    },
    {
      "cell_type": "markdown",
      "source": [
        "Prediction on random data"
      ],
      "metadata": {
        "id": "aPITReRfHv83"
      }
    },
    {
      "cell_type": "code",
      "source": [
        "random_data = test_features.iloc[5:10]\n",
        "prepared_data = my_pipeline.transform(random_data)\n",
        "a = model.predict(prepared_data)\n",
        "print(\"Predictions on random data:\", a)"
      ],
      "metadata": {
        "colab": {
          "base_uri": "https://localhost:8080/"
        },
        "id": "yVtSDRLzHy0N",
        "outputId": "487f43f4-3696-46f7-b9f5-21b0cf513acb"
      },
      "execution_count": null,
      "outputs": [
        {
          "output_type": "stream",
          "name": "stdout",
          "text": [
            "Predictions on random data: [45.8085625  44.32187046 46.69607238 24.3932446  54.92701198]\n"
          ]
        }
      ]
    },
    {
      "cell_type": "code",
      "source": [
        "#Rmse\n",
        "\n",
        "random_mse=mean_squared_error(test_labels[5:10],a)\n",
        "random_rmse=np.sqrt(random_mse)\n",
        "random_rmse"
      ],
      "metadata": {
        "colab": {
          "base_uri": "https://localhost:8080/"
        },
        "id": "KzwoPOetH5gz",
        "outputId": "f2d141b9-c5c5-43cb-cc8f-04d12288aea5"
      },
      "execution_count": null,
      "outputs": [
        {
          "output_type": "execute_result",
          "data": {
            "text/plain": [
              "7.392114251346215"
            ]
          },
          "metadata": {},
          "execution_count": 145
        }
      ]
    }
  ]
}